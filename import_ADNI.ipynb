{
  "nbformat": 4,
  "nbformat_minor": 0,
  "metadata": {
    "colab": {
      "provenance": [],
      "authorship_tag": "ABX9TyMtlsRbvkJ0Qbvf2gatEOnj",
      "include_colab_link": true
    },
    "kernelspec": {
      "name": "python3",
      "display_name": "Python 3"
    },
    "language_info": {
      "name": "python"
    }
  },
  "cells": [
    {
      "cell_type": "markdown",
      "metadata": {
        "id": "view-in-github",
        "colab_type": "text"
      },
      "source": [
        "<a href=\"https://colab.research.google.com/github/JonnyElkin/Masters-Project/blob/main/import_ADNI.ipynb\" target=\"_parent\"><img src=\"https://colab.research.google.com/assets/colab-badge.svg\" alt=\"Open In Colab\"/></a>"
      ]
    },
    {
      "cell_type": "code",
      "execution_count": null,
      "metadata": {
        "id": "2SFKqKxqIIRa"
      },
      "outputs": [],
      "source": [
        "import pandas as pd\n",
        "import torch\n",
        "import numpy as np"
      ]
    },
    {
      "cell_type": "code",
      "source": [
        "df = pd.read_excel(\"/content/D1_D2_feature_subset.xlsx\", sheet_name= \"Sheet1\")"
      ],
      "metadata": {
        "id": "KA3H_hkomsZR"
      },
      "execution_count": null,
      "outputs": []
    },
    {
      "cell_type": "code",
      "source": [
        "subset = df[[\"RID\",\"ADAS13\",\"AGE\",\"APOE4\",\"CDRSB\",\"MMSE\",\"Hippocampus\",\"WholeBrain\"]]\n",
        "print(subset.shape)\n",
        "print(np.unique(subset.values[:, 0]).shape)\n",
        "a, b = np.unique(subset.values[:, 0], return_counts=True)\n",
        "\n",
        "print(np.max(b))\n",
        "\n",
        "subset = subset.dropna()\n",
        "numpy_data = subset.astype(\"float\").values\n",
        "\n"
      ],
      "metadata": {
        "colab": {
          "base_uri": "https://localhost:8080/"
        },
        "id": "5LdzAeOxpe-G",
        "outputId": "a7aeab28-18bc-4065-9f1b-cbe5e2f790dc"
      },
      "execution_count": null,
      "outputs": [
        {
          "output_type": "stream",
          "name": "stdout",
          "text": [
            "(12754, 8)\n",
            "(1737,)\n",
            "19\n"
          ]
        }
      ]
    },
    {
      "cell_type": "code",
      "source": [
        "\n",
        "indicies, counts = np.unique(numpy_data[:, 0], return_counts = True)\n",
        "\n",
        "X = np.zeros(counts.size, dtype = 'object')\n",
        "y = np.zeros(counts.size, dtype = 'object')\n",
        "counter = 0\n",
        "for i, size in enumerate(counts):\n",
        " # print(i)\n",
        "  X[i] = numpy_data[counter:counter+size , 2:]\n",
        "  y[i] = numpy_data[counter:counter+size, 1:2]\n",
        "  counter += size\n"
      ],
      "metadata": {
        "id": "HgrC_B0UUO3w"
      },
      "execution_count": null,
      "outputs": []
    },
    {
      "cell_type": "code",
      "source": [
        "#find max time sequence length\n",
        "max = 0\n",
        "for i, y_val in enumerate(y):\n",
        "  if y[i].shape[0] > max:\n",
        "    max = y[i].shape[0]"
      ],
      "metadata": {
        "id": "dVLcFy9o1PRF"
      },
      "execution_count": null,
      "outputs": []
    },
    {
      "cell_type": "code",
      "source": [
        "y_sums = np.zeros(11)\n",
        "y_counts = np.zeros(11, dtype='int')\n",
        "for i, y_val in enumerate(y):\n",
        "  temp = np.pad(y_val, ((0,11-y_val.size),(0,0)))\n",
        "  y_sums += temp[:, 0]\n",
        "  y_counts += np.ones(11, dtype='int') - np.isclose(temp[:, 0], 0) *1"
      ],
      "metadata": {
        "id": "tP9v1_di1UKu"
      },
      "execution_count": null,
      "outputs": []
    },
    {
      "cell_type": "code",
      "source": [
        "y_sums / y_counts\n"
      ],
      "metadata": {
        "colab": {
          "base_uri": "https://localhost:8080/"
        },
        "id": "Iijx-5Xt4kY3",
        "outputId": "b114a42e-f295-4896-9e11-7bd4f9565ddd"
      },
      "execution_count": null,
      "outputs": [
        {
          "output_type": "execute_result",
          "data": {
            "text/plain": [
              "array([16.72936469, 16.81217143, 17.41054529, 16.81171642, 17.91938824,\n",
              "       17.28995349, 18.02707317, 19.05364865, 16.85846154, 14.602     ,\n",
              "       13.67      ])"
            ]
          },
          "metadata": {},
          "execution_count": 56
        }
      ]
    },
    {
      "cell_type": "code",
      "source": [
        "np.pad(y[1], ((0,3),(0,0)))"
      ],
      "metadata": {
        "id": "GliORR1kapqO",
        "colab": {
          "base_uri": "https://localhost:8080/"
        },
        "outputId": "dd4944f4-e848-4674-cfb7-3fb7775574fd"
      },
      "execution_count": null,
      "outputs": [
        {
          "output_type": "execute_result",
          "data": {
            "text/plain": [
              "array([[31.  ],\n",
              "       [30.  ],\n",
              "       [35.  ],\n",
              "       [37.67],\n",
              "       [ 0.  ],\n",
              "       [ 0.  ],\n",
              "       [ 0.  ]])"
            ]
          },
          "metadata": {},
          "execution_count": 57
        }
      ]
    }
  ]
}